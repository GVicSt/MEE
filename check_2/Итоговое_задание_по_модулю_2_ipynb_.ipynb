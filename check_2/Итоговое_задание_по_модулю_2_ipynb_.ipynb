{
  "cells": [
    {
      "cell_type": "markdown",
      "metadata": {
        "id": "XHI3Ry3Z6f0I"
      },
      "source": [
        "**Задание 1**\n",
        "\n",
        "Нам известны некоторые данные, а именно то что есть неких двое работников, которые получают одинаковое задание, уложить определённое количество блоков, однако на выполнение данного задания они тратят разное количество дней, требуется написать программу которая найдёт и выведет на экран математическое ожидание для каждого из работников по предоставленным данным, а также среднеквадратическое отклонение\n",
        "\n",
        "|Размер пирамиды|40|60|80|100|\n",
        "|---|---|---|---|---|\n",
        "|Метион1|1|1|2|2|\n",
        "|Метион2|1|2|2|3|"
      ]
    },
    {
      "cell_type": "code",
      "execution_count": 12,
      "metadata": {
        "id": "0iJJdLdg6ay8"
      },
      "outputs": [
        {
          "name": "stdout",
          "output_type": "stream",
          "text": [
            "ожидание 1:\n",
            "[0.0, 0.4, 0.5]\n",
            "40 : 0.9\n",
            "60 : 1.3\n",
            "80 : 1.7000000000000002\n",
            "100 : 2.1\n",
            "ожидание 2:\n",
            "[0.0, 0.6, 0.5]\n",
            "40 : 1.1\n",
            "60 : 1.7\n",
            "80 : 2.3\n",
            "100 : 2.9\n"
          ]
        }
      ],
      "source": [
        "def mat_make(width,height):\n",
        "    matrix = []\n",
        "    for i in range(width):\n",
        "        matrix_temp = []\n",
        "        for j in range(height):\n",
        "            matrix_temp.append(0)\n",
        "        matrix.append(matrix_temp)\n",
        "    return matrix\n",
        "\n",
        "def mat_determinant_at(mat):\n",
        "  det = 0\n",
        "  m = len(mat)\n",
        "  if m == 2:\n",
        "    det = mat[0][0] * mat[1][1] - mat[0][1] * mat[1][0]\n",
        "  if m > 2:\n",
        "    for k in range(m):\n",
        "      det += mat[0][k] * (-1) ** k * mat_determinant_at([mat[i][:k] + mat[i][k+1:] for i in range(1,m)])\n",
        "  return det\n",
        "\n",
        "def abc(x,y):\n",
        "    b, out = mat_make(1,3), mat_make(1,3)\n",
        "    a, a1, a2, a3 = mat_make(3,3),mat_make(3,3),mat_make(3,3),mat_make(3,3)\n",
        "    \n",
        "    for i in x:\n",
        "        a[0][0] += i**4\n",
        "        a[0][1] += i**3\n",
        "        a[0][2] += i**2\n",
        "        a[1][2] += i\n",
        "    a[1][0], a[1][1], a[2][0], a[2][1], a[2][2] = a[0][1], a[0][2], a[0][2], a[1][2], len(x)\n",
        "\n",
        "    for i in range(len(x)):\n",
        "        b[0][0] += x[i]**2 * y[i]\n",
        "        b[0][1] += x[i] * y[i]\n",
        "        b[0][2] += y[i]\n",
        "\n",
        "    for i in range(len(a)):\n",
        "        for j in range(len(a[0])):\n",
        "            if i == 0:\n",
        "                a1[i][j] = b[0][j]\n",
        "            else:\n",
        "                a1[i][j] = a[i][j]\n",
        "            if i == 1:\n",
        "                a2[i][j] = b[0][j]\n",
        "            else:\n",
        "                a2[i][j] = a[i][j]\n",
        "            if i == 2:\n",
        "                a3[i][j] = b[0][j]\n",
        "            else:\n",
        "                a3[i][j] = a[i][j]\n",
        "\n",
        "    out[0][0] = mat_determinant_at(a1)/mat_determinant_at(a)\n",
        "    out[0][1] = mat_determinant_at(a2)/mat_determinant_at(a)\n",
        "    out[0][2] = mat_determinant_at(a3)/mat_determinant_at(a)\n",
        "    return out[0]\n",
        "\n",
        "def get_pred(z,y,g):\n",
        "   print(y)\n",
        "   for i in range(1,z+1):\n",
        "      print(g[i-1],':',y[0]*i**2+y[1]*i+y[2])\n",
        "\n",
        "pyra = [40,60,80,100]\n",
        "muth = [1,2,3,4]\n",
        "meth = [[1,1,2,2],[1,2,2,3]]\n",
        "\n",
        "metg = [abc(muth,meth[0]),abc(muth,meth[1])]\n",
        "\n",
        "print('ожидание 1:')\n",
        "get_pred(4,metg[0],pyra)\n",
        "print('ожидание 2:')\n",
        "get_pred(4,metg[1],pyra)\n",
        "\n"
      ]
    },
    {
      "cell_type": "markdown",
      "metadata": {
        "id": "JdCj3ksZ7kdo"
      },
      "source": [
        "**Задание 2**\n",
        "\n",
        "Даны два вектора $\\vec{a}(2;8)$ и $\\vec{b}(4;5)$ вычислить выражение $2*\\vec{a} + 9*\\vec{b}$"
      ]
    },
    {
      "cell_type": "code",
      "execution_count": 21,
      "metadata": {
        "id": "YZX8jTQ073WP"
      },
      "outputs": [
        {
          "name": "stdout",
          "output_type": "stream",
          "text": [
            "[40, 61]\n"
          ]
        }
      ],
      "source": [
        "a = [2,8]\n",
        "b = [4,5]\n",
        "\n",
        "a1,b1,x = [],[],[]\n",
        "for i in range(len(a)):\n",
        "    a1.append(a[i] * 2)\n",
        "    b1.append(b[i] * 9)\n",
        "    x.append(a1[i] + b1[i])\n",
        "\n",
        "print(x)"
      ]
    },
    {
      "cell_type": "markdown",
      "metadata": {
        "id": "4lV6jhXy73pW"
      },
      "source": [
        "**Задание 3**\n",
        "\n",
        "У нас имеется две команды по три игрока у каждого из игроков есть по одному персонажу, у каждого персонажа есть три характеристики: здоровье, мана и урон. Данные характеристики представленны далее, первая команда:\n",
        "\n",
        "10 15 7\n",
        "\n",
        "20 5 5\n",
        "\n",
        "14 8 19\n",
        "\n",
        "Вторая команда:\n",
        "\n",
        "30 1 4\n",
        "\n",
        "13 10 8\n",
        "\n",
        "5 20 5\n",
        "\n",
        "Требуется написать программу в которой эти данные будут представленны в удобном для дальнейшей работы виде, сравните определители полученных матриц, а также отобразите поэлементно то насколько характеристики каждого игрока из каждой команды попарно больше или меньше, то есть сравнение нужно проводить между 1 игроком 1 команды и 1 игроком 2 команды, далее 2 и 2 игроки и 3 и 3, в результате программа должна вывести разницу определителей и разницу матриц\n"
      ]
    },
    {
      "cell_type": "code",
      "execution_count": 1,
      "metadata": {
        "id": "QorbYG1M8UMV"
      },
      "outputs": [
        {
          "name": "stdout",
          "output_type": "stream",
          "text": [
            "команда 1:\n",
            "  игрок 1:\n",
            "    hp:10;mp:15;atk:7.\n",
            "  игрок 2:\n",
            "    hp:20;mp:5;atk:5.\n",
            "  игрок 3:\n",
            "    hp:14;mp:8;atk:19.\n",
            "команда 2:\n",
            "  игрок 1:\n",
            "    hp:30;mp:1;atk:4.\n",
            "  игрок 2:\n",
            "    hp:13;mp:10;atk:8.\n",
            "  игрок 3:\n",
            "    hp:5;mp:20;atk:5.\n",
            "игроки с номером 1:\n",
            "  hp  игрока 2 комманды больше на 20;\n",
            "  mp  игрока 1 комманды больше на 14;\n",
            "  atk игрока 1 комманды больше на 3.\n",
            "игроки с номером 2:\n",
            "  hp  игрока 1 комманды больше на 7;\n",
            "  mp  игрока 2 комманды больше на 5;\n",
            "  atk игрока 2 комманды больше на 3.\n",
            "игроки с номером 3:\n",
            "  hp  игрока 1 комманды больше на 9;\n",
            "  mp  игрока 2 комманды больше на 12;\n",
            "  atk игрока 1 комманды больше на 14.\n",
            "разница определителей: -985\n",
            "разница матриц: [[-20, 14, 3], [7, -5, -3], [9, -12, 14]]\n"
          ]
        }
      ],
      "source": [
        "Team = [[[10,15,7],[20,5,5],[14,8,19]],[[30,1,4],[13,10,8],[5,20,5]]]\n",
        "\n",
        "def mat_sub(a,b):\n",
        "    if len(a) != len(b) or len(a[0]) != len(b[0]):\n",
        "        return 0\n",
        "    \n",
        "    matrix = []\n",
        "    matrix_temp = []\n",
        "    for i in range(len(a)):\n",
        "        for j in range(len(a[0])):\n",
        "            z = a[i][j] - b[i][j]\n",
        "        \n",
        "            matrix_temp.append(z)\n",
        "        matrix.append(matrix_temp)\n",
        "        matrix_temp = []\n",
        "    return matrix\n",
        "\n",
        "def mat_determinant_3x3(a):\n",
        "    if len(a) != 3 or len(a[0]) != 3:\n",
        "        return \"break\"\n",
        "    z0 = a[0][0] * a[1][1] * a[2][2]\n",
        "    z1 = a[1][0] * a[0][2] * a[2][1]\n",
        "    z2 = a[0][1] * a[1][2] * a[2][0]\n",
        "    z3 = a[0][2] * a[1][1] * a[2][0]\n",
        "    z4 = a[0][0] * a[2][1] * a[1][2]\n",
        "    z5 = a[1][0] * a[0][1] * a[2][2]\n",
        "    return (z0+z1+z2)-(z3+z4+z5)\n",
        "\n",
        "print('команда 1:')\n",
        "for i in range(3):\n",
        "    print(f'  игрок {i+1}:')\n",
        "    print(f'    hp:{Team[0][i][0]};mp:{Team[0][i][1]};atk:{Team[0][i][2]}.')\n",
        "\n",
        "print('команда 2:')\n",
        "for i in range(3):\n",
        "    print(f'  игрок {i+1}:')\n",
        "    print(f'    hp:{Team[1][i][0]};mp:{Team[1][i][1]};atk:{Team[1][i][2]}.')\n",
        "\n",
        "\n",
        "for i in range(3):\n",
        "    print(f'игроки с номером {i+1}:')\n",
        "    print(f'  hp  игрока {\"1\" if Team[0][i][0]>Team[1][i][0] else \"2\"} комманды больше на {abs(Team[0][i][0]-Team[1][i][0])};')\n",
        "    print(f'  mp  игрока {\"1\" if Team[0][i][1]>Team[1][i][1] else \"2\"} комманды больше на {abs(Team[0][i][1]-Team[1][i][1])};')\n",
        "    print(f'  atk игрока {\"1\" if Team[0][i][2]>Team[1][i][2] else \"2\"} комманды больше на {abs(Team[0][i][2]-Team[1][i][2])}.')\n",
        "\n",
        "Team_det = [mat_determinant_3x3(Team[0]),mat_determinant_3x3(Team[1])]\n",
        "print('разница определителей:', Team_det[0]-Team_det[1])\n",
        "print('разница матриц:', mat_sub(Team[0],Team[1]))"
      ]
    },
    {
      "cell_type": "markdown",
      "metadata": {
        "id": "e4Q6JzVvGQt6"
      },
      "source": [
        "**Задание 4**\n",
        "\n",
        "Используя данные представленные ниже и МНК составьте программу которая произведёт расчёт предполагаемых затрат в днях для имеющихся размеров пирамид и последующих трёх, а именно 1200, 1400, 1600\n",
        "\n",
        "|Размер пирамиды|400|600|800|1000|\n",
        "|---|---|---|---|---|\n",
        "|Метион1|9|13|21|29|\n",
        "|Метион2|12|17|22|30|"
      ]
    },
    {
      "cell_type": "code",
      "execution_count": 15,
      "metadata": {
        "id": "u8cNrnx2H_44"
      },
      "outputs": [
        {
          "name": "stdout",
          "output_type": "stream",
          "text": [
            "ожидание 1:\n",
            "[1.0, 1.8, 6.0]\n",
            "400 : 8.8\n",
            "600 : 13.6\n",
            "800 : 20.4\n",
            "1000 : 29.2\n",
            "1200 : 40.0\n",
            "1400 : 52.8\n",
            "1600 : 67.6\n",
            "ожидание 2:\n",
            "[0.75, 2.15, 9.25]\n",
            "400 : 12.15\n",
            "600 : 16.55\n",
            "800 : 22.45\n",
            "1000 : 29.85\n",
            "1200 : 38.75\n",
            "1400 : 49.15\n",
            "1600 : 61.05\n"
          ]
        }
      ],
      "source": [
        "def mat_make(width,height):\n",
        "    matrix = []\n",
        "    for i in range(width):\n",
        "        matrix_temp = []\n",
        "        for j in range(height):\n",
        "            matrix_temp.append(0)\n",
        "        matrix.append(matrix_temp)\n",
        "    return matrix\n",
        "\n",
        "def mat_determinant_at(mat):\n",
        "  det = 0\n",
        "  m = len(mat)\n",
        "  if m == 2:\n",
        "    det = mat[0][0] * mat[1][1] - mat[0][1] * mat[1][0]\n",
        "  if m > 2:\n",
        "    for k in range(m):\n",
        "      det += mat[0][k] * (-1) ** k * mat_determinant_at([mat[i][:k] + mat[i][k+1:] for i in range(1,m)])\n",
        "  return det\n",
        "\n",
        "def abc(x,y):\n",
        "    b, out = mat_make(1,3), mat_make(1,3)\n",
        "    a, a1, a2, a3 = mat_make(3,3),mat_make(3,3),mat_make(3,3),mat_make(3,3)\n",
        "    \n",
        "    for i in x:\n",
        "        a[0][0] += i**4\n",
        "        a[0][1] += i**3\n",
        "        a[0][2] += i**2\n",
        "        a[1][2] += i\n",
        "    a[1][0], a[1][1], a[2][0], a[2][1], a[2][2] = a[0][1], a[0][2], a[0][2], a[1][2], len(x)\n",
        "\n",
        "    for i in range(len(x)):\n",
        "        b[0][0] += x[i]**2 * y[i]\n",
        "        b[0][1] += x[i] * y[i]\n",
        "        b[0][2] += y[i]\n",
        "\n",
        "    for i in range(len(a)):\n",
        "        for j in range(len(a[0])):\n",
        "            if i == 0:\n",
        "                a1[i][j] = b[0][j]\n",
        "            else:\n",
        "                a1[i][j] = a[i][j]\n",
        "            if i == 1:\n",
        "                a2[i][j] = b[0][j]\n",
        "            else:\n",
        "                a2[i][j] = a[i][j]\n",
        "            if i == 2:\n",
        "                a3[i][j] = b[0][j]\n",
        "            else:\n",
        "                a3[i][j] = a[i][j]\n",
        "\n",
        "    out[0][0] = mat_determinant_at(a1)/mat_determinant_at(a)\n",
        "    out[0][1] = mat_determinant_at(a2)/mat_determinant_at(a)\n",
        "    out[0][2] = mat_determinant_at(a3)/mat_determinant_at(a)\n",
        "    return out[0]\n",
        "\n",
        "def get_pred(z,y,g):\n",
        "   print(y)\n",
        "   for i in range(1,z+1):\n",
        "      print(g[i-1],':',y[0]*i**2+y[1]*i+y[2])\n",
        "\n",
        "pyra = [400,600,800,1000,1200,1400,1600]\n",
        "muth = [1,2,3,4]\n",
        "meth = [[9,13,21,29],[12,17,22,30]]\n",
        "\n",
        "metg = [abc(muth,meth[0]),abc(muth,meth[1])]\n",
        "\n",
        "print('ожидание 1:')\n",
        "get_pred(7,metg[0],pyra)\n",
        "print('ожидание 2:')\n",
        "get_pred(7,metg[1],pyra)"
      ]
    }
  ],
  "metadata": {
    "colab": {
      "provenance": []
    },
    "kernelspec": {
      "display_name": "Python 3",
      "name": "python3"
    },
    "language_info": {
      "codemirror_mode": {
        "name": "ipython",
        "version": 3
      },
      "file_extension": ".py",
      "mimetype": "text/x-python",
      "name": "python",
      "nbconvert_exporter": "python",
      "pygments_lexer": "ipython3",
      "version": "3.10.6"
    }
  },
  "nbformat": 4,
  "nbformat_minor": 0
}
