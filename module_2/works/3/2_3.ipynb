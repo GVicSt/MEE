{
 "cells": [
  {
   "cell_type": "code",
   "execution_count": 6,
   "metadata": {},
   "outputs": [
    {
     "name": "stdout",
     "output_type": "stream",
     "text": [
      "[3.0, 2.0]\n",
      "[8.0, 4.0]\n"
     ]
    }
   ],
   "source": [
    "o = [1,1]\n",
    "a = [3,2]\n",
    "b = [8,-4]\n",
    "\n",
    "def base(a,o):\n",
    "    z = [0] * len(a)\n",
    "    for i in range(len(a)):\n",
    "        z[i] = a[i]/o[i]\n",
    "    return list(map(abs,z))\n",
    "\n",
    "print(base(a,o))\n",
    "print(base(b,o))"
   ]
  },
  {
   "cell_type": "code",
   "execution_count": 32,
   "metadata": {},
   "outputs": [
    {
     "name": "stdout",
     "output_type": "stream",
     "text": [
      "угол\n",
      "1.038292228493046\n",
      "59.48976259388446\n"
     ]
    }
   ],
   "source": [
    "import math\n",
    "\n",
    "def to_vec(a, b):\n",
    "    if len(a) != len(b):\n",
    "        return 0\n",
    "    z = [0] * len(a)\n",
    "    for i in range(len(a)):\n",
    "        z[i] = b[i] - a[i]\n",
    "\n",
    "    return z\n",
    "\n",
    "def leng(a, b):\n",
    "    if len(a) != len(b):\n",
    "        return 0\n",
    "    z = 0\n",
    "    for i in range(len(a)):\n",
    "        z += (a[i] - b[i]) ** 2\n",
    "    return z ** 0.5\n",
    "\n",
    "def angle(a,b):\n",
    "    if len(a) != len(b):\n",
    "        return 0\n",
    "    z = 0\n",
    "    for i in range(len(a)):\n",
    "        z += a[i] * b[i]\n",
    "    return math.acos(z / (leng(a, [0] * len(a)) * leng(b, [0] * len(b))))\n",
    "\n",
    "def angle_deg(a,b):\n",
    "    return angle(a,b) / math.pi * 180\n",
    "\n",
    "a0 = [8,-6,0]\n",
    "a1 = [0,0,0]\n",
    "b0 = [12,5,0]\n",
    "b1 = [0,0,0]\n",
    "\n",
    "print('угол')\n",
    "print(angle(to_vec(a0,a1),to_vec(b0,b1)))\n",
    "print(angle_deg(to_vec(a0,a1),to_vec(b0,b1)))\n"
   ]
  },
  {
   "cell_type": "code",
   "execution_count": null,
   "metadata": {},
   "outputs": [],
   "source": []
  }
 ],
 "metadata": {
  "kernelspec": {
   "display_name": "Python 3",
   "language": "python",
   "name": "python3"
  },
  "language_info": {
   "codemirror_mode": {
    "name": "ipython",
    "version": 3
   },
   "file_extension": ".py",
   "mimetype": "text/x-python",
   "name": "python",
   "nbconvert_exporter": "python",
   "pygments_lexer": "ipython3",
   "version": "3.10.6"
  }
 },
 "nbformat": 4,
 "nbformat_minor": 2
}
