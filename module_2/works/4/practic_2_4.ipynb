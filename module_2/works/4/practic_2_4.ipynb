{
 "cells": [
  {
   "cell_type": "code",
   "execution_count": null,
   "metadata": {},
   "outputs": [],
   "source": [
    "def limit(x,formule):\n",
    "    p = formule.split('/')\n",
    "    for i in range(len(p)):\n",
    "        if(eval(p[-1-i]) == 0):\n",
    "            return '0/0'\n",
    "    else:\n",
    "        return eval(formule)\n",
    "\n",
    "print(limit(int(input()),'((x*x*x)+5*(x*x)+(3*x))/(3*x)'))"
   ]
  }
 ],
 "metadata": {
  "language_info": {
   "name": "python"
  }
 },
 "nbformat": 4,
 "nbformat_minor": 2
}
