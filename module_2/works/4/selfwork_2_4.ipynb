{
 "cells": [
  {
   "cell_type": "code",
   "execution_count": 1,
   "metadata": {},
   "outputs": [
    {
     "name": "stdout",
     "output_type": "stream",
     "text": [
      "3x^2\n"
     ]
    }
   ],
   "source": [
    "def proizvol(formule):\n",
    "    formule_list = formule.split('+')\n",
    "    x = []\n",
    "    for i in range(len(formule_list)):\n",
    "        x.append(formule_list[i].split('*'))\n",
    "    temp = []\n",
    "    for i in range(len(formule_list)):\n",
    "        if 'x' not in x[i]:\n",
    "            temp.append(0)\n",
    "        if '1' == x[i][0] and x[i][-1] == '1':\n",
    "            temp.append(1)\n",
    "        elif '1' != x[i][0] and x[i][-1] == '1':\n",
    "            temp.append(str(x[i][0]))\n",
    "        elif int(x[i][-1]) > 1:\n",
    "            if int(x[i][-1])-1 == 1:\n",
    "                temp.append(str(int(x[i][-1]) * int(x[i][0]))+'x')\n",
    "            else:\n",
    "                temp.append(str(int(x[i][-1]) * int(x[i][0]))+'x'+'^'+str(int(x[i][-1])-1))\n",
    "    result = ''\n",
    "    for i in range(len(temp)):    \n",
    "        result += (str(temp[i]))\n",
    "        if i != len(temp)-1:\n",
    "            result += ' + '\n",
    "    return result\n",
    "\n",
    "print(proizvol('1*x**3'))"
   ]
  }
 ],
 "metadata": {
  "kernelspec": {
   "display_name": "Python 3",
   "language": "python",
   "name": "python3"
  },
  "language_info": {
   "codemirror_mode": {
    "name": "ipython",
    "version": 3
   },
   "file_extension": ".py",
   "mimetype": "text/x-python",
   "name": "python",
   "nbconvert_exporter": "python",
   "pygments_lexer": "ipython3",
   "version": "3.10.6"
  }
 },
 "nbformat": 4,
 "nbformat_minor": 2
}
