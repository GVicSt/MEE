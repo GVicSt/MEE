{
 "cells": [
  {
   "cell_type": "code",
   "execution_count": null,
   "metadata": {},
   "outputs": [],
   "source": [
    "# Найти производную функции  z=x2−y3  в точке  A(2;6)  по направлению координатных осей и вектора  a¯¯¯(2;2)\n",
    "\n",
    "# z = 1*x**2 − 1*y**3\n",
    "\n",
    "# Zx = 2x - 0        Zx = 4\n",
    "# Zy = 0 - 3y**2     Zy = -108\n",
    "\n",
    "# a¯ = (2i + 2j)/(sqrt((2)**2+(2)**2)) = (2i + 2j)/(sqrt(8)) = (2i)/(2*sqrt(2)) + (2j)/(2*sqrt(2)) = i/sqrt(2) + j/sqrt(2)\n",
    "\n",
    "# 1/(2**0.5)*4 + 1/(2**0.5)*(-108) = -73.53910524340094\n",
    "# => функция находится на \"плато\"\n",
    "\n",
    "\n"
   ]
  },
  {
   "cell_type": "code",
   "execution_count": 16,
   "metadata": {},
   "outputs": [
    {
     "name": "stdout",
     "output_type": "stream",
     "text": [
      "formule - 1.x.1 -1.y.1\n",
      "z   = +1 -1\n",
      "z'x = +1  = 1\n",
      "z'y = -1 = -1\n",
      "ã   = 0.0\n"
     ]
    }
   ],
   "source": [
    "\n",
    "def proizvol(formule, chebebe = ['']):\n",
    "    formule_list = formule.split(' ')\n",
    "    x = []\n",
    "    for i in range(len(formule_list)):\n",
    "        x.append(formule_list[i].split('.'))\n",
    "    temp = []\n",
    "    for i in range(len(formule_list)):\n",
    "        if x[i][1] not in chebebe and x[i][0] not in chebebe:\n",
    "            pass\n",
    "        elif '1' == x[i][0] and x[i][-1] == '1':\n",
    "            temp.append('+1 ')\n",
    "        elif '1' != x[i][0] and x[i][-1] == '1':\n",
    "            temp.append(str(x[i][0]))\n",
    "        elif int(x[i][-1]) > 1:\n",
    "            if int(x[i][-1])-1 == 1:\n",
    "                temp.append(str(str(x[i][-1]) +'*'+ str(x[i][0]))+'*'+x[i][1] + ' ')\n",
    "            else:\n",
    "                temp.append(str(str(x[i][-1]) +'*'+ str(x[i][0]))+'*'+x[i][1]+'**'+str(int(x[i][-1])-1) + ' ')\n",
    "    result = ''\n",
    "    for i in range(len(temp)):\n",
    "            result += (str(temp[i]))\n",
    "    return result\n",
    "\n",
    "\n",
    "# z = 1*x**2 − 1*y**3\n",
    "\n",
    "# Zx = 2x - 0        Zx = 4\n",
    "# Zy = 0 - 3y**2     Zy = -108\n",
    "\n",
    "\n",
    "formule = '1.x.1 -1.y.1' # '1.x.2 -1.y.3'\n",
    "x,y = 0,0 # 2,6\n",
    "A = [x,y]\n",
    "a = [2,2]\n",
    "\n",
    "z = proizvol(formule,['x','y'])\n",
    "\n",
    "str_zx = proizvol(formule,['x'])\n",
    "str_zy = proizvol(formule,['y'])\n",
    "\n",
    "Zx = eval(str_zx)\n",
    "Zy = eval(str_zy)\n",
    "\n",
    "print(\"formule -\", formule)\n",
    "print(\"z   =\", z)\n",
    "print(\"z'x =\", str_zx, '=', Zx)\n",
    "print(\"z'y =\", str_zy, '=', Zy)\n",
    "\n",
    "a_sth = (a[0]*Zx + a[0]*Zy) / ((a[0]**2 + a[1]**2)**0.5)\n",
    "\n",
    "print('ã   =',a_sth)"
   ]
  }
 ],
 "metadata": {
  "kernelspec": {
   "display_name": "Python 3",
   "language": "python",
   "name": "python3"
  },
  "language_info": {
   "codemirror_mode": {
    "name": "ipython",
    "version": 3
   },
   "file_extension": ".py",
   "mimetype": "text/x-python",
   "name": "python",
   "nbconvert_exporter": "python",
   "pygments_lexer": "ipython3",
   "version": "3.10.6"
  }
 },
 "nbformat": 4,
 "nbformat_minor": 2
}
