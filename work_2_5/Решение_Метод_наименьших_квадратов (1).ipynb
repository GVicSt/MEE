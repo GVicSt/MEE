{
  "cells": [
    {
      "cell_type": "markdown",
      "metadata": {
        "colab_type": "text",
        "id": "view-in-github"
      },
      "source": [
        "<a href=\"https://colab.research.google.com/github/vn322/Cod_future/blob/main/%D0%A0%D0%B5%D1%88%D0%B5%D0%BD%D0%B8%D0%B5_%D0%9C%D0%B5%D1%82%D0%BE%D0%B4_%D0%BD%D0%B0%D0%B8%D0%BC%D0%B5%D0%BD%D1%8C%D1%88%D0%B8%D1%85_%D0%BA%D0%B2%D0%B0%D0%B4%D1%80%D0%B0%D1%82%D0%BE%D0%B2.ipynb\" target=\"_parent\"><img src=\"https://colab.research.google.com/assets/colab-badge.svg\" alt=\"Open In Colab\"/></a>"
      ]
    },
    {
      "cell_type": "markdown",
      "metadata": {
        "id": "D91k2Njs2bhW"
      },
      "source": [
        "# Задание"
      ]
    },
    {
      "cell_type": "markdown",
      "metadata": {
        "id": "UFCBTRTI3GQv"
      },
      "source": [
        "- Создать набор данных не менее чем 2 строк х 5 столбцов. \n",
        "- Одну из переменных назначить зависимой (целевой). \n",
        "- Методом наименьших квадратов найти коэффициенты линейной зависимости между независимой и зависимой переменной. \n",
        "- Создать прогноз для изменения зависимой переменной на следующие два значения независимой."
      ]
    },
    {
      "cell_type": "code",
      "execution_count": 38,
      "metadata": {
        "colab": {
          "base_uri": "https://localhost:8080/",
          "height": 314
        },
        "id": "EERPyKGWGwO8",
        "outputId": "0bbb03d6-8cb4-4c7d-886b-3000798de532"
      },
      "outputs": [
        {
          "name": "stdout",
          "output_type": "stream",
          "text": [
            "A = [[55, 15], [15, 5]]\n",
            "B = [[108, 31]]\n",
            "X = [[1.5000000000000018, 1.7000000000000028]]\n",
            "           0    1    2    3     4\n",
            "Frags    3.0  6.0  5.0  7.0  10.0\n",
            "Level    1.0  2.0  3.0  4.0   5.0\n",
            "Прогноз  3.2  4.7  6.2  7.7   9.2\n",
            "[1.5 1.7]\n"
          ]
        },
        {
          "data": {
            "text/plain": [
              "[<matplotlib.lines.Line2D at 0x2a1a9e69660>]"
            ]
          },
          "execution_count": 38,
          "metadata": {},
          "output_type": "execute_result"
        },
        {
          "data": {
            "image/png": "[encoded data removed]",
            "text/plain": [
              "<Figure size 640x480 with 1 Axes>"
            ]
          },
          "metadata": {},
          "output_type": "display_data"
        }
      ],
      "source": [
        "def mat_make(width,height):\n",
        "    matrix = []\n",
        "    for i in range(width):\n",
        "        matrix_temp = []\n",
        "        for j in range(height):\n",
        "            matrix_temp.append(0)\n",
        "        matrix.append(matrix_temp)\n",
        "    return matrix\n",
        "\n",
        "def mat_trasposition(a):\n",
        "    matrix = []\n",
        "    matrix_temp = []\n",
        "    for i in range(len(a)):\n",
        "        for j in range(len(a[0])):\n",
        "            z = a[j][i]\n",
        "            matrix_temp.append(z)\n",
        "        matrix.append(matrix_temp)\n",
        "        matrix_temp = []\n",
        "    return matrix\n",
        "\n",
        "def mat_determinant_at(mat):\n",
        "  det = 0\n",
        "  m = len(mat)\n",
        "  if m == 2:\n",
        "    det = mat[0][0] * mat[1][1] - mat[0][1] * mat[1][0]\n",
        "  if m > 2:\n",
        "    for k in range(m):\n",
        "      det += mat[0][k] * (-1) ** k *\\\n",
        "          mat_determinant_at([mat[i][:k] + mat[i][k+1:] for i in range(1,m)])\n",
        "  return det\n",
        "\n",
        "def mat_mul_num(a,b):\n",
        "    matrix = []\n",
        "    matrix_temp = []\n",
        "    for i in range(len(a)):\n",
        "        for j in range(len(a[0])):\n",
        "            z = a[i][j] * b\n",
        "            matrix_temp.append(z)\n",
        "        matrix.append(matrix_temp)\n",
        "        matrix_temp = []\n",
        "    return matrix\n",
        "\n",
        "def mat_inverse(mat):\n",
        "  det_mat = mat_determinant_at(mat)\n",
        "  if det_mat == 0:\n",
        "    return 0\n",
        "  else:\n",
        "    m = len(mat)\n",
        "    join_mat = [[mat[1][1], (-1) * mat[1][0]], [(-1) * mat[0][1], mat[0][0]]]\n",
        "    inv_mat = mat_mul_num(mat_trasposition(join_mat),round((1 / det_mat),2))\n",
        "  return inv_mat\n",
        "\n",
        "def mat_mul_mat(a,b):\n",
        "    matrix = []\n",
        "    for x in a:\n",
        "        matrix_temp = []\n",
        "        for y in zip(*b):\n",
        "            z = 0\n",
        "            for i,j in zip(x, y):\n",
        "                z += i*j\n",
        "            matrix_temp.append(z)\n",
        "        matrix.append(matrix_temp)\n",
        "    return matrix\n",
        "\n",
        "def ab(x,y):\n",
        "    z = mat_make(1,2)\n",
        "    w = mat_make(2,2)\n",
        "    h = mat_make(1,2)\n",
        "    \n",
        "    for i in x:\n",
        "        w[0][1] += i\n",
        "    for i in y:\n",
        "        z[0][1] += i\n",
        "    for i in x:\n",
        "        w[0][0] += i**2\n",
        "    for i in range(len(x)):\n",
        "        z[0][0] += x[i] * y[i]\n",
        "    w[1][1] = len(x)\n",
        "    w[1][0] = w[0][1]\n",
        "    h = mat_mul_mat(z,mat_inverse(w))\n",
        "\n",
        "    print('A =', w)\n",
        "    print('B =', z)\n",
        "    print('X =', h)\n",
        "\n",
        "    return h[0]\n",
        "\n",
        "import pandas as pd\n",
        "import numpy as np\n",
        "import matplotlib.pyplot as plt\n",
        "%matplotlib inline\n",
        "\n",
        "# данные\n",
        "level = [1,2,3,4,5]\n",
        "frags = [3,6,5,7,10]\n",
        "\n",
        "# получение данных для предсказаний\n",
        "model = ab(level, frags)\n",
        "\n",
        "# строю тблицу по данным\n",
        "df = pd.DataFrame({'Frags':frags})\n",
        "df['Level'] = df.index+1\n",
        "df['Прогноз'] = df['Level']*model[0]+model[1]\n",
        "print(df.T)\n",
        "\n",
        "# строю график по данным\n",
        "leng = int(input('Введите уровень: '))\n",
        "\n",
        "estimate = np.poly1d(model)     # подставлять a и b в формулу a*x+b\n",
        "estimation = mat_make(1,2)[0]\n",
        "estimation[0] = range(leng)\n",
        "estimation[1] = [estimate(estimation[0])]\n",
        "\n",
        "\n",
        "# это не моё\n",
        "prognoz = np.poly1d(np.polyfit(level, frags, 1))\n",
        "x_axis = range(leng)\n",
        "y_axis = prognoz(x_axis)\n",
        "\n",
        "plt.xlabel('Level')\n",
        "plt.ylabel('Frags')    \n",
        "plt.scatter(level, frags, c = 'r')                      # красное — изначальные данные\n",
        "plt.scatter(estimation[0], estimation[1], c = 'g')      # зелёное — предсказано по моему алгоритму\n",
        "plt.plot(x_axis, y_axis, c = 'b')                       # синее   — предсказано через numpy.polyfit()"
      ]
    }
  ],
  "metadata": {
    "colab": {
      "authorship_tag": "ABX9TyMnfD+PMMxZrlUBfLvoiBlN",
      "include_colab_link": true,
      "provenance": [],
      "toc_visible": true
    },
    "kernelspec": {
      "display_name": "Python 3",
      "name": "python3"
    },
    "language_info": {
      "codemirror_mode": {
        "name": "ipython",
        "version": 3
      },
      "file_extension": ".py",
      "mimetype": "text/x-python",
      "name": "python",
      "nbconvert_exporter": "python",
      "pygments_lexer": "ipython3",
      "version": "3.10.6"
    }
  },
  "nbformat": 4,
  "nbformat_minor": 0
}
