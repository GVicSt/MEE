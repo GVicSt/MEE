{
 "cells": [
  {
   "cell_type": "code",
   "execution_count": 6,
   "metadata": {},
   "outputs": [
    {
     "data": {
      "text/plain": [
       "[<matplotlib.lines.Line2D at 0x2207dc1c470>]"
      ]
     },
     "execution_count": 6,
     "metadata": {},
     "output_type": "execute_result"
    },
    {
     "data": {
      "image/png": "[encoded data removed]",
      "text/plain": [
       "<Figure size 640x480 with 1 Axes>"
      ]
     },
     "metadata": {},
     "output_type": "display_data"
    }
   ],
   "source": [
    "import numpy as np\n",
    "import matplotlib.pyplot as plt\n",
    "\n",
    "agil = range(10)\n",
    "frag = [1, 2, 4, 2, 3, 5, 4, 4, 5, 11]\n",
    "\n",
    "model = np.polyfit(agil,frag, 1)\n",
    "prognoz = np.poly1d(model)\n",
    "\n",
    "x_axis = range(15)\n",
    "y_axis = prognoz(x_axis)\n",
    "plt.scatter(agil,frag)\n",
    "plt.plot(x_axis, y_axis, c = 'r')"
   ]
  },
  {
   "cell_type": "code",
   "execution_count": null,
   "metadata": {},
   "outputs": [],
   "source": []
  },
  {
   "cell_type": "code",
   "execution_count": null,
   "metadata": {},
   "outputs": [],
   "source": []
  },
  {
   "cell_type": "code",
   "execution_count": 9,
   "metadata": {},
   "outputs": [
    {
     "name": "stdout",
     "output_type": "stream",
     "text": [
      " №  1 Расстояние  0.2\n",
      " №  2 Расстояние  0.85\n",
      " №  3 Расстояние  0.4\n",
      " №  4 Расстояние  0.79\n",
      " №  5 Расстояние  0.4\n",
      " №  6 Расстояние  0.0\n",
      " №  7 Расстояние  0.0\n",
      " №  8 Расстояние  0.95\n",
      " №  9 Расстояние  0.0\n",
      " №  10 Расстояние  0.0\n",
      "Cамый похожий  №  8\n"
     ]
    }
   ],
   "source": [
    "sportsmens_results = np.array(\n",
    "    [\n",
    "        [2, 1, 0, 0, 0, 0],\n",
    "        [1, 1, 2, 1, 0, 0],\n",
    "        [2, 0, 1, 0, 0, 0],\n",
    "        [1, 1, 2, 1, 0, 1],\n",
    "        [0, 0, 1, 2, 0, 0],\n",
    "        [0, 0, 0, 0, 0, 5],\n",
    "        [1, 0, 0, 0, 0, 0],\n",
    "        [0, 1, 1, 0, 0, 0],\n",
    "        [0, 0, 0, 1, 1, 3],\n",
    "        [1, 0, 0, 2, 1, 4]\n",
    "    ], \n",
    "    np.int32\n",
    ")\n",
    "\n",
    "next_sportsmen_results = np.array([0, 1, 2, 0, 0, 0]) \n",
    "\n",
    "def cosine( a, b ):\n",
    "    \n",
    "    aLength = np.linalg.norm( a )\n",
    "    bLength = np.linalg.norm( b )\n",
    "    \n",
    "    return np.dot( a, b ) / ( aLength * bLength )\n",
    "\n",
    "my_list = []\n",
    "for i in sportsmens_results:\n",
    "    my_list.append(cosine(i, next_sportsmen_results))\n",
    "    print(\" № \", len(my_list), \"Расстояние \",round(cosine(i, next_sportsmen_results), 2))\n",
    "\n",
    "print('Cамый похожий  № ', my_list.index(max(my_list)) + 1)"
   ]
  }
 ],
 "metadata": {
  "kernelspec": {
   "display_name": "Python 3",
   "language": "python",
   "name": "python3"
  },
  "language_info": {
   "codemirror_mode": {
    "name": "ipython",
    "version": 3
   },
   "file_extension": ".py",
   "mimetype": "text/x-python",
   "name": "python",
   "nbconvert_exporter": "python",
   "pygments_lexer": "ipython3",
   "version": "3.12.1"
  }
 },
 "nbformat": 4,
 "nbformat_minor": 2
}
